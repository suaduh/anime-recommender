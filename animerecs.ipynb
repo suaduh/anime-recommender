{
 "cells": [
  {
   "cell_type": "code",
   "execution_count": 1,
   "id": "fabf6cc7",
   "metadata": {
    "scrolled": false
   },
   "outputs": [],
   "source": [
    "import numpy as np\n",
    "import pandas as pd\n",
    "from sklearn.metrics.pairwise import cosine_similarity\n",
    "from fuzzywuzzy import process"
   ]
  },
  {
   "cell_type": "code",
   "execution_count": null,
   "id": "56504ed6",
   "metadata": {},
   "outputs": [],
   "source": [
    "animes = pd.read_csv('./animerecs/anime.csv')\n",
    "ratings=pd.read_csv('./animerecs/rating.csv') \n",
    "#filter out ratings that are -1\n",
    "ratings = ratings[ratings['rating'] != -1]\n",
    "\n",
    "#create the user-item matrix\n",
    "user_item_matrix = ratings.pivot_table(index='user_id', columns='anime_id', values='rating', fill_value=0)\n",
    "\n",
    "# Handling NaN values. We fill them with 0s for now. This means the user hasn't rated that anime.\n",
    "user_item_matrix = user_item_matrix.T"
   ]
  },
  {
   "cell_type": "code",
   "execution_count": null,
   "id": "dca940a3",
   "metadata": {},
   "outputs": [],
   "source": [
    "#compute cosine similarity between users\n",
    "item_similarity = cosine_similarity(user_item_matrix)"
   ]
  },
  {
   "cell_type": "code",
   "execution_count": null,
   "id": "286fea95",
   "metadata": {},
   "outputs": [],
   "source": [
    "item_similarity_df = pd.DataFrame(item_similarity, index=user_item_matrix.index, columns=user_item_matrix.index)\n",
    "print(item_similarity_df.head())"
   ]
  },
  {
   "cell_type": "code",
   "execution_count": null,
   "id": "81e3bc00",
   "metadata": {},
   "outputs": [],
   "source": [
    "def get_recs(anime_name, anime_data, similarity_matrix, num_recs=10):\n",
    "    #fuzzy matching for potential typos\n",
    "    match_tuple = process.extractOne(anime_name, anime_data['name'])\n",
    "    \n",
    "    if match_tuple[1] < 80:  # you can adjust this threshold\n",
    "        return \"No suitable match found. Please check the anime name and try again.\"\n",
    "    \n",
    "    title_match = match_tuple[0]\n",
    "    \n",
    "    #get the anime ID for the matched title\n",
    "    anime_id = anime_data[anime_data['name'] == title_match]['anime_id'].values[0]\n",
    "    \n",
    "    #calculate the similarity scores for the given anime\n",
    "    sim_scores = list(enumerate(similarity_matrix[anime_id]))\n",
    "    \n",
    "    #sort the animes based on similarity scores\n",
    "    sim_scores = sorted(sim_scores, key=lambda x: x[1], reverse=True)\n",
    "    \n",
    "    #get the top, unique recommendations\n",
    "    top_scores = sim_scores[1:num_recs+1]\n",
    "    recommended_indices = [score[0] for score in top_scores]\n",
    "    unique_animes = anime_data.iloc[recommended_indices]['name'].unique()\n",
    "    \n",
    "    return unique_animes"
   ]
  },
  {
   "cell_type": "code",
   "execution_count": null,
   "id": "87e26d42",
   "metadata": {},
   "outputs": [],
   "source": [
    "#assuming you have loaded your anime data and similarity matrix\n",
    "user_input = input(\"Enter your favorite anime: \")\n",
    "recommendations = get_recs(user_input, animes, item_similarity)\n",
    "\n",
    "if isinstance(recommendations, str):\n",
    "    print(recommendations)\n",
    "else:\n",
    "    print(\"Based on your favorite anime, we recommend:\\n\")\n",
    "    for i, rec in enumerate(recommendations, 1):\n",
    "        print(f\"{i}. {rec}\")"
   ]
  },
  {
   "cell_type": "code",
   "execution_count": null,
   "id": "da54e76d",
   "metadata": {},
   "outputs": [],
   "source": []
  }
 ],
 "metadata": {
  "kernelspec": {
   "display_name": "Python 3 (ipykernel)",
   "language": "python",
   "name": "python3"
  },
  "language_info": {
   "codemirror_mode": {
    "name": "ipython",
    "version": 3
   },
   "file_extension": ".py",
   "mimetype": "text/x-python",
   "name": "python",
   "nbconvert_exporter": "python",
   "pygments_lexer": "ipython3",
   "version": "3.10.9"
  }
 },
 "nbformat": 4,
 "nbformat_minor": 5
}
